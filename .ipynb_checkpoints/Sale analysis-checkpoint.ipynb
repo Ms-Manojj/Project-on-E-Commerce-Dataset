{
 "cells": [
  {
   "cell_type": "code",
   "execution_count": 1,
   "id": "4ac9ddf6-5cae-4877-9521-02acf579dc6d",
   "metadata": {},
   "outputs": [],
   "source": [
    "import pandas as pd\n",
    "import matplotlib.pyplot as plt\n",
    "import seaborn as sn\n",
    "import numpy as np"
   ]
  },
  {
   "cell_type": "code",
   "execution_count": 2,
   "id": "d2e0a47f-8a80-4994-8b7c-89dc3591abf1",
   "metadata": {},
   "outputs": [],
   "source": [
    "dataset=pd.read_csv(r'E-Commerce Sales Dataset.csv',low_memory=False)"
   ]
  },
  {
   "cell_type": "code",
   "execution_count": 3,
   "id": "9f62004d-68cf-49eb-b860-28853ff89f84",
   "metadata": {},
   "outputs": [
    {
     "data": {
      "text/html": [
       "<div>\n",
       "<style scoped>\n",
       "    .dataframe tbody tr th:only-of-type {\n",
       "        vertical-align: middle;\n",
       "    }\n",
       "\n",
       "    .dataframe tbody tr th {\n",
       "        vertical-align: top;\n",
       "    }\n",
       "\n",
       "    .dataframe thead th {\n",
       "        text-align: right;\n",
       "    }\n",
       "</style>\n",
       "<table border=\"1\" class=\"dataframe\">\n",
       "  <thead>\n",
       "    <tr style=\"text-align: right;\">\n",
       "      <th></th>\n",
       "      <th>index</th>\n",
       "      <th>Order ID</th>\n",
       "      <th>Date</th>\n",
       "      <th>Status</th>\n",
       "      <th>Fulfilment</th>\n",
       "      <th>Sales Channel</th>\n",
       "      <th>ship-service-level</th>\n",
       "      <th>Style</th>\n",
       "      <th>SKU</th>\n",
       "      <th>Category</th>\n",
       "      <th>...</th>\n",
       "      <th>currency</th>\n",
       "      <th>Amount</th>\n",
       "      <th>ship-city</th>\n",
       "      <th>ship-state</th>\n",
       "      <th>ship-postal-code</th>\n",
       "      <th>ship-country</th>\n",
       "      <th>promotion-ids</th>\n",
       "      <th>B2B</th>\n",
       "      <th>fulfilled-by</th>\n",
       "      <th>Unnamed: 22</th>\n",
       "    </tr>\n",
       "  </thead>\n",
       "  <tbody>\n",
       "    <tr>\n",
       "      <th>0</th>\n",
       "      <td>0</td>\n",
       "      <td>405-8078784-5731545</td>\n",
       "      <td>04-30-22</td>\n",
       "      <td>Cancelled</td>\n",
       "      <td>Merchant</td>\n",
       "      <td>Amazon.in</td>\n",
       "      <td>Standard</td>\n",
       "      <td>SET389</td>\n",
       "      <td>SET389-KR-NP-S</td>\n",
       "      <td>Set</td>\n",
       "      <td>...</td>\n",
       "      <td>INR</td>\n",
       "      <td>647.62</td>\n",
       "      <td>MUMBAI</td>\n",
       "      <td>MAHARASHTRA</td>\n",
       "      <td>400081.0</td>\n",
       "      <td>IN</td>\n",
       "      <td>NaN</td>\n",
       "      <td>False</td>\n",
       "      <td>Easy Ship</td>\n",
       "      <td>NaN</td>\n",
       "    </tr>\n",
       "    <tr>\n",
       "      <th>1</th>\n",
       "      <td>1</td>\n",
       "      <td>171-9198151-1101146</td>\n",
       "      <td>04-30-22</td>\n",
       "      <td>Shipped - Delivered to Buyer</td>\n",
       "      <td>Merchant</td>\n",
       "      <td>Amazon.in</td>\n",
       "      <td>Standard</td>\n",
       "      <td>JNE3781</td>\n",
       "      <td>JNE3781-KR-XXXL</td>\n",
       "      <td>kurta</td>\n",
       "      <td>...</td>\n",
       "      <td>INR</td>\n",
       "      <td>406.00</td>\n",
       "      <td>BENGALURU</td>\n",
       "      <td>KARNATAKA</td>\n",
       "      <td>560085.0</td>\n",
       "      <td>IN</td>\n",
       "      <td>Amazon PLCC Free-Financing Universal Merchant ...</td>\n",
       "      <td>False</td>\n",
       "      <td>Easy Ship</td>\n",
       "      <td>NaN</td>\n",
       "    </tr>\n",
       "    <tr>\n",
       "      <th>2</th>\n",
       "      <td>2</td>\n",
       "      <td>404-0687676-7273146</td>\n",
       "      <td>04-30-22</td>\n",
       "      <td>Shipped</td>\n",
       "      <td>Amazon</td>\n",
       "      <td>Amazon.in</td>\n",
       "      <td>Expedited</td>\n",
       "      <td>JNE3371</td>\n",
       "      <td>JNE3371-KR-XL</td>\n",
       "      <td>kurta</td>\n",
       "      <td>...</td>\n",
       "      <td>INR</td>\n",
       "      <td>329.00</td>\n",
       "      <td>NAVI MUMBAI</td>\n",
       "      <td>MAHARASHTRA</td>\n",
       "      <td>410210.0</td>\n",
       "      <td>IN</td>\n",
       "      <td>IN Core Free Shipping 2015/04/08 23-48-5-108</td>\n",
       "      <td>True</td>\n",
       "      <td>NaN</td>\n",
       "      <td>NaN</td>\n",
       "    </tr>\n",
       "    <tr>\n",
       "      <th>3</th>\n",
       "      <td>3</td>\n",
       "      <td>403-9615377-8133951</td>\n",
       "      <td>04-30-22</td>\n",
       "      <td>Cancelled</td>\n",
       "      <td>Merchant</td>\n",
       "      <td>Amazon.in</td>\n",
       "      <td>Standard</td>\n",
       "      <td>J0341</td>\n",
       "      <td>J0341-DR-L</td>\n",
       "      <td>Western Dress</td>\n",
       "      <td>...</td>\n",
       "      <td>INR</td>\n",
       "      <td>753.33</td>\n",
       "      <td>PUDUCHERRY</td>\n",
       "      <td>PUDUCHERRY</td>\n",
       "      <td>605008.0</td>\n",
       "      <td>IN</td>\n",
       "      <td>NaN</td>\n",
       "      <td>False</td>\n",
       "      <td>Easy Ship</td>\n",
       "      <td>NaN</td>\n",
       "    </tr>\n",
       "    <tr>\n",
       "      <th>4</th>\n",
       "      <td>4</td>\n",
       "      <td>407-1069790-7240320</td>\n",
       "      <td>04-30-22</td>\n",
       "      <td>Shipped</td>\n",
       "      <td>Amazon</td>\n",
       "      <td>Amazon.in</td>\n",
       "      <td>Expedited</td>\n",
       "      <td>JNE3671</td>\n",
       "      <td>JNE3671-TU-XXXL</td>\n",
       "      <td>Top</td>\n",
       "      <td>...</td>\n",
       "      <td>INR</td>\n",
       "      <td>574.00</td>\n",
       "      <td>CHENNAI</td>\n",
       "      <td>TAMIL NADU</td>\n",
       "      <td>600073.0</td>\n",
       "      <td>IN</td>\n",
       "      <td>NaN</td>\n",
       "      <td>False</td>\n",
       "      <td>NaN</td>\n",
       "      <td>NaN</td>\n",
       "    </tr>\n",
       "  </tbody>\n",
       "</table>\n",
       "<p>5 rows × 24 columns</p>\n",
       "</div>"
      ],
      "text/plain": [
       "   index             Order ID      Date                        Status  \\\n",
       "0      0  405-8078784-5731545  04-30-22                     Cancelled   \n",
       "1      1  171-9198151-1101146  04-30-22  Shipped - Delivered to Buyer   \n",
       "2      2  404-0687676-7273146  04-30-22                       Shipped   \n",
       "3      3  403-9615377-8133951  04-30-22                     Cancelled   \n",
       "4      4  407-1069790-7240320  04-30-22                       Shipped   \n",
       "\n",
       "  Fulfilment Sales Channel  ship-service-level    Style              SKU  \\\n",
       "0   Merchant      Amazon.in           Standard   SET389   SET389-KR-NP-S   \n",
       "1   Merchant      Amazon.in           Standard  JNE3781  JNE3781-KR-XXXL   \n",
       "2     Amazon      Amazon.in          Expedited  JNE3371    JNE3371-KR-XL   \n",
       "3   Merchant      Amazon.in           Standard    J0341       J0341-DR-L   \n",
       "4     Amazon      Amazon.in          Expedited  JNE3671  JNE3671-TU-XXXL   \n",
       "\n",
       "        Category  ... currency  Amount    ship-city   ship-state  \\\n",
       "0            Set  ...      INR  647.62       MUMBAI  MAHARASHTRA   \n",
       "1          kurta  ...      INR  406.00    BENGALURU    KARNATAKA   \n",
       "2          kurta  ...      INR  329.00  NAVI MUMBAI  MAHARASHTRA   \n",
       "3  Western Dress  ...      INR  753.33   PUDUCHERRY   PUDUCHERRY   \n",
       "4            Top  ...      INR  574.00      CHENNAI   TAMIL NADU   \n",
       "\n",
       "  ship-postal-code  ship-country  \\\n",
       "0         400081.0            IN   \n",
       "1         560085.0            IN   \n",
       "2         410210.0            IN   \n",
       "3         605008.0            IN   \n",
       "4         600073.0            IN   \n",
       "\n",
       "                                       promotion-ids    B2B  fulfilled-by  \\\n",
       "0                                                NaN  False     Easy Ship   \n",
       "1  Amazon PLCC Free-Financing Universal Merchant ...  False     Easy Ship   \n",
       "2       IN Core Free Shipping 2015/04/08 23-48-5-108   True           NaN   \n",
       "3                                                NaN  False     Easy Ship   \n",
       "4                                                NaN  False           NaN   \n",
       "\n",
       "  Unnamed: 22  \n",
       "0         NaN  \n",
       "1         NaN  \n",
       "2         NaN  \n",
       "3         NaN  \n",
       "4         NaN  \n",
       "\n",
       "[5 rows x 24 columns]"
      ]
     },
     "execution_count": 3,
     "metadata": {},
     "output_type": "execute_result"
    }
   ],
   "source": [
    "dataset.head(5)"
   ]
  },
  {
   "cell_type": "code",
   "execution_count": 4,
   "id": "74e8b52c-2ba3-4745-9ae9-82b1147b6d0e",
   "metadata": {},
   "outputs": [
    {
     "data": {
      "text/plain": [
       "(128975, 24)"
      ]
     },
     "execution_count": 4,
     "metadata": {},
     "output_type": "execute_result"
    }
   ],
   "source": [
    "dataset.shape"
   ]
  },
  {
   "cell_type": "code",
   "execution_count": 5,
   "id": "c223f17e-ac5f-46ab-b3dd-237aa2dfa80b",
   "metadata": {},
   "outputs": [
    {
     "name": "stdout",
     "output_type": "stream",
     "text": [
      "<class 'pandas.core.frame.DataFrame'>\n",
      "RangeIndex: 128975 entries, 0 to 128974\n",
      "Data columns (total 24 columns):\n",
      " #   Column              Non-Null Count   Dtype  \n",
      "---  ------              --------------   -----  \n",
      " 0   index               128975 non-null  int64  \n",
      " 1   Order ID            128975 non-null  object \n",
      " 2   Date                128975 non-null  object \n",
      " 3   Status              128975 non-null  object \n",
      " 4   Fulfilment          128975 non-null  object \n",
      " 5   Sales Channel       128975 non-null  object \n",
      " 6   ship-service-level  128975 non-null  object \n",
      " 7   Style               128975 non-null  object \n",
      " 8   SKU                 128975 non-null  object \n",
      " 9   Category            128975 non-null  object \n",
      " 10  Size                128975 non-null  object \n",
      " 11  ASIN                128975 non-null  object \n",
      " 12  Courier Status      122103 non-null  object \n",
      " 13  Qty                 128975 non-null  int64  \n",
      " 14  currency            121180 non-null  object \n",
      " 15  Amount              121180 non-null  float64\n",
      " 16  ship-city           128942 non-null  object \n",
      " 17  ship-state          128942 non-null  object \n",
      " 18  ship-postal-code    128942 non-null  float64\n",
      " 19  ship-country        128942 non-null  object \n",
      " 20  promotion-ids       79822 non-null   object \n",
      " 21  B2B                 128975 non-null  bool   \n",
      " 22  fulfilled-by        39277 non-null   object \n",
      " 23  Unnamed: 22         79925 non-null   object \n",
      "dtypes: bool(1), float64(2), int64(2), object(19)\n",
      "memory usage: 22.8+ MB\n"
     ]
    }
   ],
   "source": [
    "dataset.info()"
   ]
  },
  {
   "cell_type": "code",
   "execution_count": 6,
   "id": "524ed77d-7743-400e-80c9-23e8ba35f918",
   "metadata": {},
   "outputs": [],
   "source": [
    "# from ydata_profiling import ProfileReport\n",
    "# profile = ProfileReport(dataset, title=\"Profiling Report\")\n",
    "# profile.to_file(\"your_report.html\")"
   ]
  },
  {
   "cell_type": "code",
   "execution_count": 7,
   "id": "3fc87d44-dfe0-4c5f-9a11-b17e92a79e00",
   "metadata": {},
   "outputs": [
    {
     "data": {
      "text/plain": [
       "index                     0\n",
       "Order ID                  0\n",
       "Date                      0\n",
       "Status                    0\n",
       "Fulfilment                0\n",
       "Sales Channel             0\n",
       "ship-service-level        0\n",
       "Style                     0\n",
       "SKU                       0\n",
       "Category                  0\n",
       "Size                      0\n",
       "ASIN                      0\n",
       "Courier Status         6872\n",
       "Qty                       0\n",
       "currency               7795\n",
       "Amount                 7795\n",
       "ship-city                33\n",
       "ship-state               33\n",
       "ship-postal-code         33\n",
       "ship-country             33\n",
       "promotion-ids         49153\n",
       "B2B                       0\n",
       "fulfilled-by          89698\n",
       "Unnamed: 22           49050\n",
       "dtype: int64"
      ]
     },
     "execution_count": 7,
     "metadata": {},
     "output_type": "execute_result"
    }
   ],
   "source": [
    "dataset.isnull().sum()"
   ]
  },
  {
   "cell_type": "code",
   "execution_count": 8,
   "id": "ae2ba81a-1d34-46f9-a398-c7b0cb5cf2e9",
   "metadata": {},
   "outputs": [
    {
     "name": "stderr",
     "output_type": "stream",
     "text": [
      "C:\\Users\\admin\\AppData\\Local\\Temp\\ipykernel_8468\\2706135405.py:1: UserWarning: Could not infer format, so each element will be parsed individually, falling back to `dateutil`. To ensure parsing is consistent and as-expected, please specify a format.\n",
      "  dataset['Date']=pd.to_datetime(dataset['Date'])\n"
     ]
    }
   ],
   "source": [
    "dataset['Date']=pd.to_datetime(dataset['Date'])"
   ]
  },
  {
   "cell_type": "code",
   "execution_count": 9,
   "id": "e0891ab4-5a4f-4b37-af17-4e9c63d3d7c8",
   "metadata": {},
   "outputs": [
    {
     "data": {
      "text/plain": [
       "Date\n",
       "April    49067\n",
       "May      42040\n",
       "June     37697\n",
       "March      171\n",
       "Name: count, dtype: int64"
      ]
     },
     "execution_count": 9,
     "metadata": {},
     "output_type": "execute_result"
    }
   ],
   "source": [
    "dataset['Date'].dt.month_name().value_counts()"
   ]
  },
  {
   "cell_type": "code",
   "execution_count": 10,
   "id": "292b18d4-9135-455f-95e2-56fa86303f23",
   "metadata": {},
   "outputs": [],
   "source": [
    "# Need to make a columns for month name\n",
    "\n",
    "dataset['Month_name']=dataset['Date'].dt.month_name()"
   ]
  },
  {
   "cell_type": "code",
   "execution_count": 11,
   "id": "9fec0b85-3f20-4e32-b00a-5e6452d9ab9f",
   "metadata": {},
   "outputs": [],
   "source": [
    "# need to drop df_index col\n",
    "\n",
    "dataset=dataset.drop(columns=['index'])"
   ]
  },
  {
   "cell_type": "code",
   "execution_count": 12,
   "id": "5df8c0cd-0717-4752-80b9-603d38df2363",
   "metadata": {},
   "outputs": [
    {
     "data": {
      "text/plain": [
       "Order ID               0.000000\n",
       "Date                   0.000000\n",
       "Status                 0.000000\n",
       "Fulfilment             0.000000\n",
       "Sales Channel          0.000000\n",
       "ship-service-level     0.000000\n",
       "Style                  0.000000\n",
       "SKU                    0.000000\n",
       "Category               0.000000\n",
       "Size                   0.000000\n",
       "ASIN                   0.000000\n",
       "Courier Status         5.328164\n",
       "Qty                    0.000000\n",
       "currency               6.043807\n",
       "Amount                 6.043807\n",
       "ship-city              0.025586\n",
       "ship-state             0.025586\n",
       "ship-postal-code       0.025586\n",
       "ship-country           0.025586\n",
       "promotion-ids         38.110487\n",
       "B2B                    0.000000\n",
       "fulfilled-by          69.546811\n",
       "Unnamed: 22           38.030626\n",
       "Month_name             0.000000\n",
       "dtype: float64"
      ]
     },
     "execution_count": 12,
     "metadata": {},
     "output_type": "execute_result"
    }
   ],
   "source": [
    "(dataset.isnull().sum()/dataset.shape[0])*100"
   ]
  },
  {
   "cell_type": "code",
   "execution_count": 13,
   "id": "87ee4ddf-a821-42c8-830d-59a0f202471d",
   "metadata": {},
   "outputs": [],
   "source": [
    "# Check one by one columns to that i can fix the issue\n"
   ]
  },
  {
   "cell_type": "markdown",
   "id": "9545945b-a91b-4fd9-9fa5-37ec161138f7",
   "metadata": {},
   "source": [
    "Amount Col"
   ]
  },
  {
   "cell_type": "code",
   "execution_count": 14,
   "id": "e63a5a23-185a-453f-a7ed-b762fbf28966",
   "metadata": {},
   "outputs": [],
   "source": [
    "# In th amout col we have missing values so we need to full missing with Zero\n",
    "\n",
    "dataset['Amount']=dataset['Amount'].fillna(0)\n",
    "\n",
    "# sn.kdeplot(dataset['Amount'])\n",
    "#  The graph is not very clear. I need to create a column for an amount slab to provide more clarity\n",
    "\n",
    "# Below are the slab:\n",
    "# 0= zero\n",
    "# 0 and 500 = Greater Than 0 To 500\n",
    "# 500 and 1000 = 500 To 1K\n",
    "# 1000 and 2000 = 1K To 2K\n",
    "# 2000 and 5000 = 2K To 5K\n",
    "# =5000 = Greater Than 5K\n",
    "\n",
    "# make a funcion \n",
    "def make_slab(data):\n",
    "    if data <= 0:\n",
    "        return 'Zero'\n",
    "    elif data > 0 and data < 500:\n",
    "        return 'GT 0 To 500'\n",
    "    elif data >= 500 and data < 1000:\n",
    "        return '500 To 1K'\n",
    "    elif data >= 1000 and data < 2000:\n",
    "        return '1K To 2K'\n",
    "    elif data >= 2000 and data < 5000:\n",
    "        return '2K To 5K'\n",
    "    else:\n",
    "        return 'GT 5K'\n",
    "\n",
    "# Apply with whole dataset\n",
    "\n",
    "dataset['Amt_slab']=dataset['Amount'].apply(make_slab)"
   ]
  },
  {
   "cell_type": "code",
   "execution_count": 15,
   "id": "b07e3d46-7890-4ca9-8163-a4e6a14d0740",
   "metadata": {},
   "outputs": [
    {
     "data": {
      "text/plain": [
       "<Axes: ylabel='count'>"
      ]
     },
     "execution_count": 15,
     "metadata": {},
     "output_type": "execute_result"
    },
    {
     "data": {
      "image/png": "[encoded data removed]",
      "text/plain": [
       "<Figure size 640x480 with 1 Axes>"
      ]
     },
     "metadata": {},
     "output_type": "display_data"
    }
   ],
   "source": [
    "dataset['Amt_slab'].value_counts().plot(kind='pie',autopct='%1.1f%%')\n",
    "\n",
    "# This is better understanding"
   ]
  },
  {
   "cell_type": "code",
   "execution_count": 16,
   "id": "f7da1b57-06e3-47c0-8706-fe949b884d7b",
   "metadata": {},
   "outputs": [
    {
     "data": {
      "text/plain": [
       "<Axes: xlabel='Courier Status'>"
      ]
     },
     "execution_count": 16,
     "metadata": {},
     "output_type": "execute_result"
    },
    {
     "data": {
      "image/png": "[encoded data removed]",
      "text/plain": [
       "<Figure size 640x480 with 1 Axes>"
      ]
     },
     "metadata": {},
     "output_type": "display_data"
    }
   ],
   "source": [
    "# In the Courier Status column, we have 5% missing values because we haven't delivered the product, as indicated by the comments.\n",
    "# i will filled these row with the 'cancelled'\n",
    "\n",
    "dataset[dataset['Courier Status'].isnull()]['Status'].value_counts()\n",
    "dataset['Courier Status'].value_counts()\n",
    "\n",
    "\n",
    "dataset['Courier Status']=dataset['Courier Status'].fillna('Cancelled')\n",
    "dataset['Courier Status'].value_counts().plot(kind='bar')"
   ]
  },
  {
   "cell_type": "code",
   "execution_count": 17,
   "id": "5163dd0c-661f-4104-ba79-3baf956ebb77",
   "metadata": {},
   "outputs": [
    {
     "data": {
      "text/plain": [
       "Courier Status\n",
       "Shipped      109487\n",
       "Cancelled     18438\n",
       "Unshipped      1050\n",
       "Name: count, dtype: int64"
      ]
     },
     "execution_count": 17,
     "metadata": {},
     "output_type": "execute_result"
    }
   ],
   "source": [
    "temp_df=dataset[(dataset['Courier Status']=='Unshipped')& (dataset['Status']=='Cancelled')]['Courier Status'].str.replace('Unshipped','Cancelled')\n",
    "dataset.loc[temp_df.index,['Courier Status']]=temp_df\n",
    "dataset['Courier Status'].value_counts()"
   ]
  },
  {
   "cell_type": "code",
   "execution_count": 18,
   "id": "bd1c3881-c84c-4fed-b074-55b0bc7df17f",
   "metadata": {},
   "outputs": [
    {
     "data": {
      "text/html": [
       "<div>\n",
       "<style scoped>\n",
       "    .dataframe tbody tr th:only-of-type {\n",
       "        vertical-align: middle;\n",
       "    }\n",
       "\n",
       "    .dataframe tbody tr th {\n",
       "        vertical-align: top;\n",
       "    }\n",
       "\n",
       "    .dataframe thead th {\n",
       "        text-align: right;\n",
       "    }\n",
       "</style>\n",
       "<table border=\"1\" class=\"dataframe\">\n",
       "  <thead>\n",
       "    <tr style=\"text-align: right;\">\n",
       "      <th></th>\n",
       "      <th>Order ID</th>\n",
       "      <th>Date</th>\n",
       "      <th>Status</th>\n",
       "      <th>Fulfilment</th>\n",
       "      <th>Sales Channel</th>\n",
       "      <th>ship-service-level</th>\n",
       "      <th>Style</th>\n",
       "      <th>SKU</th>\n",
       "      <th>Category</th>\n",
       "      <th>Size</th>\n",
       "      <th>...</th>\n",
       "      <th>ship-city</th>\n",
       "      <th>ship-state</th>\n",
       "      <th>ship-postal-code</th>\n",
       "      <th>ship-country</th>\n",
       "      <th>promotion-ids</th>\n",
       "      <th>B2B</th>\n",
       "      <th>fulfilled-by</th>\n",
       "      <th>Unnamed: 22</th>\n",
       "      <th>Month_name</th>\n",
       "      <th>Amt_slab</th>\n",
       "    </tr>\n",
       "  </thead>\n",
       "  <tbody>\n",
       "    <tr>\n",
       "      <th>0</th>\n",
       "      <td>405-8078784-5731545</td>\n",
       "      <td>2022-04-30</td>\n",
       "      <td>Cancelled</td>\n",
       "      <td>Merchant</td>\n",
       "      <td>Amazon.in</td>\n",
       "      <td>Standard</td>\n",
       "      <td>SET389</td>\n",
       "      <td>SET389-KR-NP-S</td>\n",
       "      <td>Set</td>\n",
       "      <td>S</td>\n",
       "      <td>...</td>\n",
       "      <td>MUMBAI</td>\n",
       "      <td>MAHARASHTRA</td>\n",
       "      <td>400081.0</td>\n",
       "      <td>IN</td>\n",
       "      <td>NaN</td>\n",
       "      <td>False</td>\n",
       "      <td>Easy Ship</td>\n",
       "      <td>NaN</td>\n",
       "      <td>April</td>\n",
       "      <td>500 To 1K</td>\n",
       "    </tr>\n",
       "  </tbody>\n",
       "</table>\n",
       "<p>1 rows × 25 columns</p>\n",
       "</div>"
      ],
      "text/plain": [
       "              Order ID       Date     Status Fulfilment Sales Channel   \\\n",
       "0  405-8078784-5731545 2022-04-30  Cancelled   Merchant      Amazon.in   \n",
       "\n",
       "  ship-service-level   Style             SKU Category Size  ... ship-city  \\\n",
       "0           Standard  SET389  SET389-KR-NP-S      Set    S  ...    MUMBAI   \n",
       "\n",
       "    ship-state  ship-postal-code ship-country  promotion-ids    B2B  \\\n",
       "0  MAHARASHTRA          400081.0           IN            NaN  False   \n",
       "\n",
       "  fulfilled-by  Unnamed: 22 Month_name   Amt_slab  \n",
       "0    Easy Ship          NaN      April  500 To 1K  \n",
       "\n",
       "[1 rows x 25 columns]"
      ]
     },
     "execution_count": 18,
     "metadata": {},
     "output_type": "execute_result"
    }
   ],
   "source": [
    "dataset.head(1)"
   ]
  },
  {
   "cell_type": "code",
   "execution_count": 19,
   "id": "e25eeb19-4d7d-4167-8be0-ac4956198324",
   "metadata": {},
   "outputs": [
    {
     "data": {
      "text/plain": [
       "Sales Channel \n",
       "Amazon        128851\n",
       "Non-Amazon       124\n",
       "Name: count, dtype: int64"
      ]
     },
     "execution_count": 19,
     "metadata": {},
     "output_type": "execute_result"
    }
   ],
   "source": [
    "# changes in Sale_channel col\n",
    "\n",
    "dataset['Sales Channel ']=dataset['Sales Channel '].str.replace('Amazon.in','Amazon')\n",
    "dataset['Sales Channel '].value_counts()"
   ]
  },
  {
   "cell_type": "code",
   "execution_count": 20,
   "id": "782a55aa-950a-4600-8e6c-795814228356",
   "metadata": {},
   "outputs": [],
   "source": [
    "# need to drop country col bcs we have only once country\n",
    "\n",
    "dataset['ship-country'].value_counts()\n",
    "\n",
    "dataset=dataset.drop(columns=['ship-country'])"
   ]
  },
  {
   "cell_type": "code",
   "execution_count": 21,
   "id": "885adf49-24e8-4e65-a3ed-4b7fd664cc3e",
   "metadata": {},
   "outputs": [],
   "source": [
    "dataset['B2B']=dataset['B2B'].astype('int')"
   ]
  },
  {
   "cell_type": "code",
   "execution_count": 22,
   "id": "9f942094-1a3a-46f1-926e-7609e898d642",
   "metadata": {},
   "outputs": [],
   "source": [
    "dataset=dataset.drop(columns=['Unnamed: 22'])"
   ]
  },
  {
   "cell_type": "code",
   "execution_count": 23,
   "id": "83f931bc-fc6f-40a6-8253-69a5e6166ee9",
   "metadata": {},
   "outputs": [
    {
     "data": {
      "text/html": [
       "<div>\n",
       "<style scoped>\n",
       "    .dataframe tbody tr th:only-of-type {\n",
       "        vertical-align: middle;\n",
       "    }\n",
       "\n",
       "    .dataframe tbody tr th {\n",
       "        vertical-align: top;\n",
       "    }\n",
       "\n",
       "    .dataframe thead th {\n",
       "        text-align: right;\n",
       "    }\n",
       "</style>\n",
       "<table border=\"1\" class=\"dataframe\">\n",
       "  <thead>\n",
       "    <tr style=\"text-align: right;\">\n",
       "      <th></th>\n",
       "      <th>Order ID</th>\n",
       "      <th>Date</th>\n",
       "      <th>Status</th>\n",
       "      <th>Fulfilment</th>\n",
       "      <th>Sales Channel</th>\n",
       "      <th>ship-service-level</th>\n",
       "      <th>Style</th>\n",
       "      <th>SKU</th>\n",
       "      <th>Category</th>\n",
       "      <th>Size</th>\n",
       "      <th>...</th>\n",
       "      <th>currency</th>\n",
       "      <th>Amount</th>\n",
       "      <th>ship-city</th>\n",
       "      <th>ship-state</th>\n",
       "      <th>ship-postal-code</th>\n",
       "      <th>promotion-ids</th>\n",
       "      <th>B2B</th>\n",
       "      <th>fulfilled-by</th>\n",
       "      <th>Month_name</th>\n",
       "      <th>Amt_slab</th>\n",
       "    </tr>\n",
       "  </thead>\n",
       "  <tbody>\n",
       "    <tr>\n",
       "      <th>0</th>\n",
       "      <td>405-8078784-5731545</td>\n",
       "      <td>2022-04-30</td>\n",
       "      <td>Cancelled</td>\n",
       "      <td>Merchant</td>\n",
       "      <td>Amazon</td>\n",
       "      <td>Standard</td>\n",
       "      <td>SET389</td>\n",
       "      <td>SET389-KR-NP-S</td>\n",
       "      <td>Set</td>\n",
       "      <td>S</td>\n",
       "      <td>...</td>\n",
       "      <td>INR</td>\n",
       "      <td>647.62</td>\n",
       "      <td>MUMBAI</td>\n",
       "      <td>MAHARASHTRA</td>\n",
       "      <td>400081.0</td>\n",
       "      <td>NaN</td>\n",
       "      <td>0</td>\n",
       "      <td>Easy Ship</td>\n",
       "      <td>April</td>\n",
       "      <td>500 To 1K</td>\n",
       "    </tr>\n",
       "  </tbody>\n",
       "</table>\n",
       "<p>1 rows × 23 columns</p>\n",
       "</div>"
      ],
      "text/plain": [
       "              Order ID       Date     Status Fulfilment Sales Channel   \\\n",
       "0  405-8078784-5731545 2022-04-30  Cancelled   Merchant         Amazon   \n",
       "\n",
       "  ship-service-level   Style             SKU Category Size  ... currency  \\\n",
       "0           Standard  SET389  SET389-KR-NP-S      Set    S  ...      INR   \n",
       "\n",
       "   Amount  ship-city   ship-state  ship-postal-code promotion-ids B2B  \\\n",
       "0  647.62     MUMBAI  MAHARASHTRA          400081.0           NaN   0   \n",
       "\n",
       "   fulfilled-by Month_name   Amt_slab  \n",
       "0     Easy Ship      April  500 To 1K  \n",
       "\n",
       "[1 rows x 23 columns]"
      ]
     },
     "execution_count": 23,
     "metadata": {},
     "output_type": "execute_result"
    }
   ],
   "source": [
    "dataset.head(1)"
   ]
  },
  {
   "cell_type": "code",
   "execution_count": 25,
   "id": "c996d866-6475-4266-ba29-84993a6948ba",
   "metadata": {},
   "outputs": [
    {
     "data": {
      "text/plain": [
       "Status\n",
       "Shipped                          77804\n",
       "Shipped - Delivered to Buyer     28769\n",
       "Cancelled                        18332\n",
       "Shipped - Returned to Seller      1953\n",
       "Shipped - Picked Up                973\n",
       "Pending                            658\n",
       "Pending - Waiting for Pick Up      281\n",
       "Shipped - Returning to Seller      145\n",
       "Shipped - Out for Delivery          35\n",
       "Shipped - Rejected by Buyer         11\n",
       "Shipping                             8\n",
       "Shipped - Lost in Transit            5\n",
       "Shipped - Damaged                    1\n",
       "Name: count, dtype: int64"
      ]
     },
     "execution_count": 25,
     "metadata": {},
     "output_type": "execute_result"
    }
   ],
   "source": [
    "dataset['Status'].value_counts()"
   ]
  },
  {
   "cell_type": "code",
   "execution_count": 27,
   "id": "8b9ba8c5-a25b-4bff-a9aa-0414911a2cc5",
   "metadata": {},
   "outputs": [],
   "source": [
    "dataset['main_status'] = dataset['Status'].replace({\n",
    "    'Shipped - Delivered to Buyer': 'Shipped',\n",
    "    'Shipped - Returned to Seller': 'Shipped',\n",
    "    'Shipped - Picked Up ': 'Shipped',\n",
    "    'Pending - Waiting for Pick Up': 'Pending',\n",
    "    'Shipped - Returning to Seller': 'Shipped',\n",
    "    'Shipped - Out for Delivery': 'Shipped',\n",
    "    'Shipped - Rejected by Buyer': 'Shipped',\n",
    "    'Shipped - Lost in Transit': 'Shipped',\n",
    "    'Shipped - Damaged': 'Shipped'\n",
    "})\n"
   ]
  },
  {
   "cell_type": "code",
   "execution_count": 28,
   "id": "e9acb3ca-2dcd-475d-a8d1-7dece55536a9",
   "metadata": {},
   "outputs": [
    {
     "data": {
      "text/html": [
       "<div>\n",
       "<style scoped>\n",
       "    .dataframe tbody tr th:only-of-type {\n",
       "        vertical-align: middle;\n",
       "    }\n",
       "\n",
       "    .dataframe tbody tr th {\n",
       "        vertical-align: top;\n",
       "    }\n",
       "\n",
       "    .dataframe thead th {\n",
       "        text-align: right;\n",
       "    }\n",
       "</style>\n",
       "<table border=\"1\" class=\"dataframe\">\n",
       "  <thead>\n",
       "    <tr style=\"text-align: right;\">\n",
       "      <th></th>\n",
       "      <th>Order ID</th>\n",
       "      <th>Date</th>\n",
       "      <th>Status</th>\n",
       "      <th>Fulfilment</th>\n",
       "      <th>Sales Channel</th>\n",
       "      <th>ship-service-level</th>\n",
       "      <th>Style</th>\n",
       "      <th>SKU</th>\n",
       "      <th>Category</th>\n",
       "      <th>Size</th>\n",
       "      <th>...</th>\n",
       "      <th>Amount</th>\n",
       "      <th>ship-city</th>\n",
       "      <th>ship-state</th>\n",
       "      <th>ship-postal-code</th>\n",
       "      <th>promotion-ids</th>\n",
       "      <th>B2B</th>\n",
       "      <th>fulfilled-by</th>\n",
       "      <th>Month_name</th>\n",
       "      <th>Amt_slab</th>\n",
       "      <th>main_status</th>\n",
       "    </tr>\n",
       "  </thead>\n",
       "  <tbody>\n",
       "    <tr>\n",
       "      <th>0</th>\n",
       "      <td>405-8078784-5731545</td>\n",
       "      <td>2022-04-30</td>\n",
       "      <td>Cancelled</td>\n",
       "      <td>Merchant</td>\n",
       "      <td>Amazon</td>\n",
       "      <td>Standard</td>\n",
       "      <td>SET389</td>\n",
       "      <td>SET389-KR-NP-S</td>\n",
       "      <td>Set</td>\n",
       "      <td>S</td>\n",
       "      <td>...</td>\n",
       "      <td>647.62</td>\n",
       "      <td>MUMBAI</td>\n",
       "      <td>MAHARASHTRA</td>\n",
       "      <td>400081.0</td>\n",
       "      <td>NaN</td>\n",
       "      <td>0</td>\n",
       "      <td>Easy Ship</td>\n",
       "      <td>April</td>\n",
       "      <td>500 To 1K</td>\n",
       "      <td>Cancelled</td>\n",
       "    </tr>\n",
       "    <tr>\n",
       "      <th>1</th>\n",
       "      <td>171-9198151-1101146</td>\n",
       "      <td>2022-04-30</td>\n",
       "      <td>Shipped - Delivered to Buyer</td>\n",
       "      <td>Merchant</td>\n",
       "      <td>Amazon</td>\n",
       "      <td>Standard</td>\n",
       "      <td>JNE3781</td>\n",
       "      <td>JNE3781-KR-XXXL</td>\n",
       "      <td>kurta</td>\n",
       "      <td>3XL</td>\n",
       "      <td>...</td>\n",
       "      <td>406.00</td>\n",
       "      <td>BENGALURU</td>\n",
       "      <td>KARNATAKA</td>\n",
       "      <td>560085.0</td>\n",
       "      <td>Amazon PLCC Free-Financing Universal Merchant ...</td>\n",
       "      <td>0</td>\n",
       "      <td>Easy Ship</td>\n",
       "      <td>April</td>\n",
       "      <td>GT 0 To 500</td>\n",
       "      <td>Shipped</td>\n",
       "    </tr>\n",
       "    <tr>\n",
       "      <th>2</th>\n",
       "      <td>404-0687676-7273146</td>\n",
       "      <td>2022-04-30</td>\n",
       "      <td>Shipped</td>\n",
       "      <td>Amazon</td>\n",
       "      <td>Amazon</td>\n",
       "      <td>Expedited</td>\n",
       "      <td>JNE3371</td>\n",
       "      <td>JNE3371-KR-XL</td>\n",
       "      <td>kurta</td>\n",
       "      <td>XL</td>\n",
       "      <td>...</td>\n",
       "      <td>329.00</td>\n",
       "      <td>NAVI MUMBAI</td>\n",
       "      <td>MAHARASHTRA</td>\n",
       "      <td>410210.0</td>\n",
       "      <td>IN Core Free Shipping 2015/04/08 23-48-5-108</td>\n",
       "      <td>1</td>\n",
       "      <td>NaN</td>\n",
       "      <td>April</td>\n",
       "      <td>GT 0 To 500</td>\n",
       "      <td>Shipped</td>\n",
       "    </tr>\n",
       "    <tr>\n",
       "      <th>3</th>\n",
       "      <td>403-9615377-8133951</td>\n",
       "      <td>2022-04-30</td>\n",
       "      <td>Cancelled</td>\n",
       "      <td>Merchant</td>\n",
       "      <td>Amazon</td>\n",
       "      <td>Standard</td>\n",
       "      <td>J0341</td>\n",
       "      <td>J0341-DR-L</td>\n",
       "      <td>Western Dress</td>\n",
       "      <td>L</td>\n",
       "      <td>...</td>\n",
       "      <td>753.33</td>\n",
       "      <td>PUDUCHERRY</td>\n",
       "      <td>PUDUCHERRY</td>\n",
       "      <td>605008.0</td>\n",
       "      <td>NaN</td>\n",
       "      <td>0</td>\n",
       "      <td>Easy Ship</td>\n",
       "      <td>April</td>\n",
       "      <td>500 To 1K</td>\n",
       "      <td>Cancelled</td>\n",
       "    </tr>\n",
       "    <tr>\n",
       "      <th>4</th>\n",
       "      <td>407-1069790-7240320</td>\n",
       "      <td>2022-04-30</td>\n",
       "      <td>Shipped</td>\n",
       "      <td>Amazon</td>\n",
       "      <td>Amazon</td>\n",
       "      <td>Expedited</td>\n",
       "      <td>JNE3671</td>\n",
       "      <td>JNE3671-TU-XXXL</td>\n",
       "      <td>Top</td>\n",
       "      <td>3XL</td>\n",
       "      <td>...</td>\n",
       "      <td>574.00</td>\n",
       "      <td>CHENNAI</td>\n",
       "      <td>TAMIL NADU</td>\n",
       "      <td>600073.0</td>\n",
       "      <td>NaN</td>\n",
       "      <td>0</td>\n",
       "      <td>NaN</td>\n",
       "      <td>April</td>\n",
       "      <td>500 To 1K</td>\n",
       "      <td>Shipped</td>\n",
       "    </tr>\n",
       "  </tbody>\n",
       "</table>\n",
       "<p>5 rows × 24 columns</p>\n",
       "</div>"
      ],
      "text/plain": [
       "              Order ID       Date                        Status Fulfilment  \\\n",
       "0  405-8078784-5731545 2022-04-30                     Cancelled   Merchant   \n",
       "1  171-9198151-1101146 2022-04-30  Shipped - Delivered to Buyer   Merchant   \n",
       "2  404-0687676-7273146 2022-04-30                       Shipped     Amazon   \n",
       "3  403-9615377-8133951 2022-04-30                     Cancelled   Merchant   \n",
       "4  407-1069790-7240320 2022-04-30                       Shipped     Amazon   \n",
       "\n",
       "  Sales Channel  ship-service-level    Style              SKU       Category  \\\n",
       "0         Amazon           Standard   SET389   SET389-KR-NP-S            Set   \n",
       "1         Amazon           Standard  JNE3781  JNE3781-KR-XXXL          kurta   \n",
       "2         Amazon          Expedited  JNE3371    JNE3371-KR-XL          kurta   \n",
       "3         Amazon           Standard    J0341       J0341-DR-L  Western Dress   \n",
       "4         Amazon          Expedited  JNE3671  JNE3671-TU-XXXL            Top   \n",
       "\n",
       "  Size  ...  Amount    ship-city   ship-state ship-postal-code  \\\n",
       "0    S  ...  647.62       MUMBAI  MAHARASHTRA         400081.0   \n",
       "1  3XL  ...  406.00    BENGALURU    KARNATAKA         560085.0   \n",
       "2   XL  ...  329.00  NAVI MUMBAI  MAHARASHTRA         410210.0   \n",
       "3    L  ...  753.33   PUDUCHERRY   PUDUCHERRY         605008.0   \n",
       "4  3XL  ...  574.00      CHENNAI   TAMIL NADU         600073.0   \n",
       "\n",
       "                                       promotion-ids B2B fulfilled-by  \\\n",
       "0                                                NaN   0    Easy Ship   \n",
       "1  Amazon PLCC Free-Financing Universal Merchant ...   0    Easy Ship   \n",
       "2       IN Core Free Shipping 2015/04/08 23-48-5-108   1          NaN   \n",
       "3                                                NaN   0    Easy Ship   \n",
       "4                                                NaN   0          NaN   \n",
       "\n",
       "   Month_name     Amt_slab  main_status  \n",
       "0       April    500 To 1K    Cancelled  \n",
       "1       April  GT 0 To 500      Shipped  \n",
       "2       April  GT 0 To 500      Shipped  \n",
       "3       April    500 To 1K    Cancelled  \n",
       "4       April    500 To 1K      Shipped  \n",
       "\n",
       "[5 rows x 24 columns]"
      ]
     },
     "execution_count": 28,
     "metadata": {},
     "output_type": "execute_result"
    }
   ],
   "source": [
    "dataset.head()"
   ]
  },
  {
   "cell_type": "code",
   "execution_count": null,
   "id": "10125a9e-ef77-43bd-a066-6ae3ae66a4d0",
   "metadata": {},
   "outputs": [],
   "source": []
  },
  {
   "cell_type": "code",
   "execution_count": null,
   "id": "efd2483c-d062-44ea-b6c4-ca1db275eecb",
   "metadata": {},
   "outputs": [],
   "source": []
  },
  {
   "cell_type": "code",
   "execution_count": null,
   "id": "dda04be8-6b9f-41cc-a9b9-49b504aa70fa",
   "metadata": {},
   "outputs": [],
   "source": []
  },
  {
   "cell_type": "code",
   "execution_count": null,
   "id": "25fb5b94-437a-4b28-9f7a-b45ac6854f86",
   "metadata": {},
   "outputs": [],
   "source": []
  },
  {
   "cell_type": "code",
   "execution_count": null,
   "id": "44dbc78f-28b3-4777-9550-145069d75ef8",
   "metadata": {},
   "outputs": [],
   "source": []
  },
  {
   "cell_type": "code",
   "execution_count": null,
   "id": "183ae415-24e7-4cb1-838e-89eb40846b21",
   "metadata": {},
   "outputs": [],
   "source": []
  },
  {
   "cell_type": "code",
   "execution_count": 24,
   "id": "4496bcda-1241-44ac-a681-06a70c62826a",
   "metadata": {},
   "outputs": [],
   "source": [
    "dataset.to_csv('For_report.csv')"
   ]
  },
  {
   "cell_type": "code",
   "execution_count": null,
   "id": "f5041883-bddc-4e10-be3e-b8c0b4358c6c",
   "metadata": {},
   "outputs": [],
   "source": []
  }
 ],
 "metadata": {
  "kernelspec": {
   "display_name": "Python 3 (ipykernel)",
   "language": "python",
   "name": "python3"
  },
  "language_info": {
   "codemirror_mode": {
    "name": "ipython",
    "version": 3
   },
   "file_extension": ".py",
   "mimetype": "text/x-python",
   "name": "python",
   "nbconvert_exporter": "python",
   "pygments_lexer": "ipython3",
   "version": "3.11.8"
  }
 },
 "nbformat": 4,
 "nbformat_minor": 5
}
